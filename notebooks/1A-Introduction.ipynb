{
 "cells": [
  {
   "cell_type": "markdown",
   "id": "f9badc7a-8019-4794-aaf7-e180fc5ba930",
   "metadata": {},
   "source": [
    "## What is Computer Vision?\n",
    "\n",
    "Computer vision is the interdisciplinary field that develops theories and methods to allow computers extract relevant information from digital images or videos.\n",
    "\n",
    "Interdisciplionary field that develops algorithms and tools to automate perceptual tasks normally performance by the human visual system.\n",
    "\n",
    "## Goals and challenges of computer vision\n",
    "\n",
    "Extract useful information from images, both metric and semantic\n",
    "Data ambiguity, **heterogeneity**, and complexity are a big challenge\n",
    "Significant progess in recent years due to various improvements\n",
    "\n",
    "- Processing power\n",
    "- Storage capacity\n",
    "- Memory capacity\n",
    "- Data availability\n",
    "\n",
    "### Computer vision workflow:\n",
    "images > measurements > representation > algorithms for learning and inference\n",
    "\n",
    "## Computer vision tasks\n",
    "Obtain simple inferences from individual pixel values\n",
    "Group pixels to separate object regions or infer shape information\n",
    "Recognise objects using geometric or statistical pixel information\n",
    "Combine information from multiple images into a coherent whole\n",
    "\n",
    "## Low-level computer vision\n",
    "This concerns mostly **image processing** (image in > image out)\n",
    "\n",
    "- Sensing: image capture and digitisation\n",
    "- Preprocessing: suppress noise and enhance object features\n",
    "- Segmentation: separate objects from background and partition them\n",
    "- Description: compute feature maps which differentiate objects\n",
    "- Labeling: assign labels to image segments (regions of interest)\n",
    "\n",
    "## High-level computer vision\n",
    "This concerns deeper **image analysis** (image in > knowledge out)\n",
    "\n",
    "- Detection: detect, localise, count objects of interest\n",
    "- Recgonition: identify object types based on low-level information\n",
    "- Classification: assign unique labels to recognised objects\n",
    "- Sce"
   ]
  },
  {
   "cell_type": "code",
   "execution_count": null,
   "id": "08d4e15e-63ed-4ef0-931c-a8d1934d18fe",
   "metadata": {},
   "outputs": [],
   "source": []
  }
 ],
 "metadata": {
  "kernelspec": {
   "display_name": "Python 3 (ipykernel)",
   "language": "python",
   "name": "python3"
  },
  "language_info": {
   "codemirror_mode": {
    "name": "ipython",
    "version": 3
   },
   "file_extension": ".py",
   "mimetype": "text/x-python",
   "name": "python",
   "nbconvert_exporter": "python",
   "pygments_lexer": "ipython3",
   "version": "3.12.7"
  }
 },
 "nbformat": 4,
 "nbformat_minor": 5
}
