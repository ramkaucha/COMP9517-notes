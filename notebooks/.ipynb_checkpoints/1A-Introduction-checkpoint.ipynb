{
 "cells": [
  {
   "cell_type": "markdown",
   "id": "f9badc7a-8019-4794-aaf7-e180fc5ba930",
   "metadata": {},
   "source": [
    "## What is Computer Vision?\n",
    "\n",
    "Computer vision is the interdisciplinary field that develops theories and methods to allow computers extract relevant information from digital images or videos.\n",
    "\n"
   ]
  }
 ],
 "metadata": {
  "kernelspec": {
   "display_name": "Python 3 (ipykernel)",
   "language": "python",
   "name": "python3"
  },
  "language_info": {
   "codemirror_mode": {
    "name": "ipython",
    "version": 3
   },
   "file_extension": ".py",
   "mimetype": "text/x-python",
   "name": "python",
   "nbconvert_exporter": "python",
   "pygments_lexer": "ipython3",
   "version": "3.12.7"
  }
 },
 "nbformat": 4,
 "nbformat_minor": 5
}
